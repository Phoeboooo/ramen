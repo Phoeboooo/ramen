{
 "cells": [
  {
   "cell_type": "code",
   "execution_count": 1,
   "metadata": {},
   "outputs": [
    {
     "name": "stderr",
     "output_type": "stream",
     "text": [
      "C:\\Users\\apple\\Anaconda3\\lib\\site-packages\\h5py\\__init__.py:36: FutureWarning: Conversion of the second argument of issubdtype from `float` to `np.floating` is deprecated. In future, it will be treated as `np.float64 == np.dtype(float).type`.\n",
      "  from ._conv import register_converters as _register_converters\n",
      "Using TensorFlow backend.\n"
     ]
    },
    {
     "name": "stdout",
     "output_type": "stream",
     "text": [
      "WARNING:tensorflow:From C:\\Users\\apple\\Anaconda3\\lib\\site-packages\\keras\\backend\\tensorflow_backend.py:1264: calling reduce_prod (from tensorflow.python.ops.math_ops) with keep_dims is deprecated and will be removed in a future version.\n",
      "Instructions for updating:\n",
      "keep_dims is deprecated, use keepdims instead\n",
      "WARNING:tensorflow:From C:\\Users\\apple\\Anaconda3\\lib\\site-packages\\keras\\backend\\tensorflow_backend.py:2885: calling reduce_sum (from tensorflow.python.ops.math_ops) with keep_dims is deprecated and will be removed in a future version.\n",
      "Instructions for updating:\n",
      "keep_dims is deprecated, use keepdims instead\n",
      "WARNING:tensorflow:From C:\\Users\\apple\\Anaconda3\\lib\\site-packages\\keras\\backend\\tensorflow_backend.py:1349: calling reduce_mean (from tensorflow.python.ops.math_ops) with keep_dims is deprecated and will be removed in a future version.\n",
      "Instructions for updating:\n",
      "keep_dims is deprecated, use keepdims instead\n"
     ]
    }
   ],
   "source": [
    "from keras import layers\n",
    "from keras import models\n",
    "\n",
    "\n",
    "model = models.Sequential()\n",
    "model.add(layers.Conv2D(32, (3, 3), activation='relu',\n",
    "                        input_shape=(150, 150, 3)))\n",
    "model.add(layers.MaxPooling2D((2, 2)))\n",
    "model.add(layers.Dropout(0.2))\n",
    "model.add(layers.Conv2D(64, (3, 3), activation='relu'))\n",
    "model.add(layers.MaxPooling2D((2, 2)))\n",
    "model.add(layers.Dropout(0.2))\n",
    "model.add(layers.Conv2D(128, (3, 3), activation='relu'))\n",
    "model.add(layers.MaxPooling2D((2, 2)))\n",
    "model.add(layers.Dropout(0.2))\n",
    "model.add(layers.Conv2D(128, (3, 3), activation='relu'))\n",
    "model.add(layers.MaxPooling2D((2, 2)))\n",
    "model.add(layers.Dropout(0.2))\n",
    "model.add(layers.Flatten())\n",
    "model.add(layers.Dense(512, activation='relu'))\n",
    "model.add(layers.Dropout(0.2))\n",
    "model.add(layers.Dense(3, activation='softmax'))\n",
    "\n",
    "from keras import optimizers\n",
    "\n",
    "model.compile(loss='categorical_crossentropy',\n",
    "              optimizer=optimizers.RMSprop(lr=1e-4),\n",
    "              metrics=['acc'])"
   ]
  },
  {
   "cell_type": "code",
   "execution_count": 2,
   "metadata": {},
   "outputs": [
    {
     "name": "stdout",
     "output_type": "stream",
     "text": [
      "Found 7081 images belonging to 3 classes.\n",
      "Found 1134 images belonging to 3 classes.\n"
     ]
    }
   ],
   "source": [
    "from keras.preprocessing.image import ImageDataGenerator\n",
    "\n",
    "train_dir = 'Downloads/ramen/train'\n",
    "validation_dir = 'Downloads/ramen/validation'\n",
    "\n",
    "# rescaled by 1./255\n",
    "train_datagen = ImageDataGenerator(rescale=1./255)\n",
    "test_datagen = ImageDataGenerator(rescale=1./255)\n",
    "\n",
    "train_generator = train_datagen.flow_from_directory(\n",
    "        train_dir,     # directory\n",
    "        target_size=(150, 150),     # input shape (resized to 150x150)\n",
    "        batch_size=20,\n",
    "        class_mode='categorical')    # categorical labels\n",
    "\n",
    "validation_generator = test_datagen.flow_from_directory(\n",
    "        validation_dir,\n",
    "        target_size=(150, 150),\n",
    "        batch_size=20,\n",
    "        class_mode='categorical')"
   ]
  },
  
  {
   "cell_type": "code",
   "execution_count": 3,
   "metadata": {},
   "outputs": [
    {
     "name": "stdout",
     "output_type": "stream",
     "text": [
      "Epoch 1/20\n",
      "354/354 [==============================] - 606s 2s/step - loss: 1.0235 - acc: 0.4818 - val_loss: 1.0156 - val_acc: 0.4875\n",
      "Epoch 2/20\n",
      "354/354 [==============================] - 554s 2s/step - loss: 0.9353 - acc: 0.5576 - val_loss: 0.9883 - val_acc: 0.5116\n",
      "Epoch 3/20\n",
      "354/354 [==============================] - 557s 2s/step - loss: 0.8976 - acc: 0.5866 - val_loss: 0.9701 - val_acc: 0.5304\n",
      "Epoch 4/20\n",
      "354/354 [==============================] - 559s 2s/step - loss: 0.8611 - acc: 0.6064 - val_loss: 0.8591 - val_acc: 0.6205\n",
      "Epoch 5/20\n",
      "354/354 [==============================] - 587s 2s/step - loss: 0.8274 - acc: 0.6292 - val_loss: 0.8878 - val_acc: 0.5884\n",
      "Epoch 6/20\n",
      "354/354 [==============================] - 595s 2s/step - loss: 0.7955 - acc: 0.6458 - val_loss: 0.8424 - val_acc: 0.6196\n",
      "Epoch 7/20\n",
      "354/354 [==============================] - 579s 2s/step - loss: 0.7670 - acc: 0.6596 - val_loss: 0.8212 - val_acc: 0.6357\n",
      "Epoch 8/20\n",
      "354/354 [==============================] - 592s 2s/step - loss: 0.7396 - acc: 0.6785 - val_loss: 0.7777 - val_acc: 0.6580\n",
      "Epoch 9/20\n",
      "354/354 [==============================] - 586s 2s/step - loss: 0.7156 - acc: 0.6975 - val_loss: 0.8440 - val_acc: 0.6080\n",
      "Epoch 10/20\n",
      "354/354 [==============================] - 562s 2s/step - loss: 0.6968 - acc: 0.7064 - val_loss: 0.7922 - val_acc: 0.6580\n",
      "Epoch 11/20\n",
      "354/354 [==============================] - 562s 2s/step - loss: 0.6782 - acc: 0.7117 - val_loss: 0.7623 - val_acc: 0.6687\n",
      "Epoch 12/20\n",
      "354/354 [==============================] - 553s 2s/step - loss: 0.6582 - acc: 0.7229 - val_loss: 0.7354 - val_acc: 0.6866\n",
      "Epoch 13/20\n",
      "354/354 [==============================] - 562s 2s/step - loss: 0.6357 - acc: 0.7329 - val_loss: 0.7236 - val_acc: 0.7045\n",
      "Epoch 14/20\n",
      "354/354 [==============================] - 559s 2s/step - loss: 0.6203 - acc: 0.7429 - val_loss: 0.7240 - val_acc: 0.6955\n",
      "Epoch 15/20\n",
      "354/354 [==============================] - 564s 2s/step - loss: 0.6113 - acc: 0.7455 - val_loss: 0.7237 - val_acc: 0.6964\n",
      "Epoch 16/20\n",
      "354/354 [==============================] - 556s 2s/step - loss: 0.5890 - acc: 0.7551 - val_loss: 0.6881 - val_acc: 0.7143\n",
      "Epoch 17/20\n",
      "354/354 [==============================] - 555s 2s/step - loss: 0.5709 - acc: 0.7634 - val_loss: 0.6967 - val_acc: 0.7152\n",
      "Epoch 18/20\n",
      "354/354 [==============================] - 549s 2s/step - loss: 0.5529 - acc: 0.7716 - val_loss: 0.6864 - val_acc: 0.7071\n",
      "Epoch 19/20\n",
      "354/354 [==============================] - 549s 2s/step - loss: 0.5524 - acc: 0.7720 - val_loss: 0.6935 - val_acc: 0.7089\n",
      "Epoch 20/20\n",
      "354/354 [==============================] - 581s 2s/step - loss: 0.5374 - acc: 0.7826 - val_loss: 0.7253 - val_acc: 0.7000\n"
     ]
    }
   ],
   "source": [
    "history = model.fit_generator(\n",
    "      train_generator,\n",
    "      steps_per_epoch=354,\n",
    "      epochs=20,\n",
    "      validation_data=validation_generator,\n",
    "      validation_steps=56)"
   ]
  },
  {
   "cell_type": "code",
   "execution_count": 4,
   "metadata": {},
   "outputs": [],
   "source": [
    "model.save('ramen')"
   ]
  },
  {
   "cell_type": "code",
   "execution_count": 6,
   "metadata": {},
   "outputs": [
    {
     "data": {
      "image/png": "[encoded data removed]",
      "text/plain": [
       "<Figure size 432x288 with 1 Axes>"
      ]
     },
     "metadata": {},
     "output_type": "display_data"
    },
    {
     "data": {
      "image/png": "[encoded data removed]",
      "text/plain": [
       "<Figure size 432x288 with 1 Axes>"
      ]
     },
     "metadata": {},
     "output_type": "display_data"
    }
   ],
   "source": [
    "import matplotlib.pyplot as plt\n",
    "\n",
    "acc = history.history['acc']\n",
    "val_acc = history.history['val_acc']\n",
    "loss = history.history['loss']\n",
    "val_loss = history.history['val_loss']\n",
    "\n",
    "epochs = range(len(acc))\n",
    "\n",
    "plt.plot(epochs, acc, 'bo', label='Training acc')\n",
    "plt.plot(epochs, val_acc, 'b', label='Validation acc')\n",
    "plt.title('Training and validation accuracy')\n",
    "plt.legend()\n",
    "\n",
    "plt.figure()\n",
    "\n",
    "plt.plot(epochs, loss, 'bo', label='Training loss')\n",
    "plt.plot(epochs, val_loss, 'b', label='Validation loss')\n",
    "plt.title('Training and validation loss')\n",
    "plt.legend()\n",
    "\n",
    "plt.show()"
   ]
  },
  {
   "cell_type": "code",
   "execution_count": 7,
   "metadata": {},
   "outputs": [
    {
     "name": "stdout",
     "output_type": "stream",
     "text": [
      "Found 1078 images belonging to 3 classes.\n",
      "test loss: 0.6364766670069579\n",
      "test acc: 0.7346938798732793\n"
     ]
    }
   ],
   "source": [
    "from keras.models import load_model\n",
    "from keras.preprocessing.image import ImageDataGenerator\n",
    "model = load_model('ramen')\n",
    "\n",
    "test_dir = 'downloads/ramen/test'\n",
    "test_datagen = ImageDataGenerator(rescale=1./255)\n",
    "test_generator = test_datagen.flow_from_directory(\n",
    "    test_dir,\n",
    "    target_size=(150,150),\n",
    "    batch_size=20,\n",
    "    class_mode='categorical')\n",
    "\n",
    "test_loss, test_acc = model.evaluate_generator(test_generator, steps=54)\n",
    "print('test loss:', test_loss)\n",
    "print('test acc:', test_acc)"
   ]
  }
 ],
 "metadata": {
  "kernelspec": {
   "display_name": "Python 3",
   "language": "python",
   "name": "python3"
  },
  "language_info": {
   "codemirror_mode": {
    "name": "ipython",
    "version": 3
   },
   "file_extension": ".py",
   "mimetype": "text/x-python",
   "name": "python",
   "nbconvert_exporter": "python",
   "pygments_lexer": "ipython3",
   "version": "3.6.5"
  }
 },
 "nbformat": 4,
 "nbformat_minor": 2
}
